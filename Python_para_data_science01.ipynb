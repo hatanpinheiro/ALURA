{
  "nbformat": 4,
  "nbformat_minor": 0,
  "metadata": {
    "colab": {
      "name": "Untitled0.ipynb",
      "provenance": [],
      "authorship_tag": "ABX9TyNo+oIC7QdP7vMmOCjm8VQW",
      "include_colab_link": true
    },
    "kernelspec": {
      "name": "python3",
      "display_name": "Python 3"
    }
  },
  "cells": [
    {
      "cell_type": "markdown",
      "metadata": {
        "id": "view-in-github",
        "colab_type": "text"
      },
      "source": [
        "<a href=\"https://colab.research.google.com/github/hatanpinheiro/ALURA/blob/master/Python_para_data_science01.ipynb\" target=\"_parent\"><img src=\"https://colab.research.google.com/assets/colab-badge.svg\" alt=\"Open In Colab\"/></a>"
      ]
    },
    {
      "cell_type": "markdown",
      "metadata": {
        "id": "MOL0NeoZseDY",
        "colab_type": "text"
      },
      "source": [
        "Uma pessoa vai até a padaria todos os dias. A distância de sua casa até o estabelecimento, é de 100 metros e todo percurso é feito em 20 segundos.\n",
        "\n",
        "Para calcular a velocidade média e descobrir a razão do espaço pelo tempo, podemos dividir o espaço percorrido pelo tempo.\n",
        "\n",
        "Sabendo disso, a pessoa deseja criar uma função chamada velocidade, que recebe 2 parâmetros chamados espaco e tempo, realizar o cálculo e exibir uma saída semelhante ao exemplo abaixo:\n",
        "\n",
        "100m\n",
        "\n",
        "20s\n"
      ]
    },
    {
      "cell_type": "markdown",
      "metadata": {
        "id": "deqWjRb4tG7U",
        "colab_type": "text"
      },
      "source": [
        "Função"
      ]
    },
    {
      "cell_type": "code",
      "metadata": {
        "id": "ut3floHftGEj",
        "colab_type": "code",
        "colab": {}
      },
      "source": [
        "def velocidade_media(x,y):\n",
        "  velocidade_media = (x / y)\n",
        "  print(f'A média da velocidade percorrida é {velocidade_media}')"
      ],
      "execution_count": 5,
      "outputs": []
    },
    {
      "cell_type": "code",
      "metadata": {
        "id": "u9IchIcFt_nz",
        "colab_type": "code",
        "colab": {
          "base_uri": "https://localhost:8080/",
          "height": 35
        },
        "outputId": "54056283-6a2d-43d1-c028-5b30dbd1ce41"
      },
      "source": [
        "velocidade_media(100,20)"
      ],
      "execution_count": 8,
      "outputs": [
        {
          "output_type": "stream",
          "text": [
            "A média da velocidade percorrida é 5.0\n"
          ],
          "name": "stdout"
        }
      ]
    },
    {
      "cell_type": "markdown",
      "metadata": {
        "id": "MFINAuCmvYMk",
        "colab_type": "text"
      },
      "source": [
        "Uma pessoa criou a seguinte função para descobrir quantos anos faltam para tirar habilitação caso, não tenha a idade permitida. Caso tenha, uma mensagem informa que pode tirar habilitação:\n",
        "\n",
        "Corrija!"
      ]
    },
    {
      "cell_type": "code",
      "metadata": {
        "id": "rAO3sMtHvIrU",
        "colab_type": "code",
        "colab": {}
      },
      "source": [
        "def habilitacao():\n",
        "  idade = input('Qual sua idade? ')\n",
        "  idade = int(idade)\n",
        "  if idade >= 18:\n",
        "    print('Pode tirar habilitação')\n",
        "  else:\n",
        "    tempo = 18 - idade\n",
        "    print(f'Calma... espere {tempo} ano(s) para tirar habilitação')\n"
      ],
      "execution_count": 11,
      "outputs": []
    },
    {
      "cell_type": "code",
      "metadata": {
        "id": "EUU8wvsVviHs",
        "colab_type": "code",
        "colab": {
          "base_uri": "https://localhost:8080/",
          "height": 54
        },
        "outputId": "9fdd55e3-caf7-4f7d-d048-f700e51877f3"
      },
      "source": [
        "habilitacao()"
      ],
      "execution_count": 12,
      "outputs": [
        {
          "output_type": "stream",
          "text": [
            "Qual sua idade? 18\n",
            "Pode tirar habilitação\n"
          ],
          "name": "stdout"
        }
      ]
    }
  ]
}